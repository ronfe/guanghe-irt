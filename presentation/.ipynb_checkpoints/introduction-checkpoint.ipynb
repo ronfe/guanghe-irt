{
 "cells": [
  {
   "cell_type": "markdown",
   "metadata": {
    "slideshow": {
     "slide_type": "slide"
    }
   },
   "source": [
    "<div style=\"height: 50px\"><img src=\"./logo.png\" style=\"display: block;width: 100px; height: auto; float: left\"></div>\n",
    "\n",
    "# 项目反应理论及其在洋葱数学中的应用\n",
    "\n",
    "姬弘飞  \n",
    "11月1日"
   ]
  },
  {
   "cell_type": "markdown",
   "metadata": {
    "slideshow": {
     "slide_type": "slide"
    }
   },
   "source": [
    "### 项目反应理论（Item Response Theory）\n",
    "\n",
    "* 测试是对被试某一方面或某几方面能力的估计\n",
    "* 用户在测试时能力是一定的、独立于测试的\n",
    "* 测试中，不同题目（项目）对不同能力的用户，意义不同\n",
    "* 测试需要找到基于之前被试的能力估计值意义最大的项目，并根据用户对该项目的反应更新对其能力的估计"
   ]
  },
  {
   "cell_type": "markdown",
   "metadata": {
    "slideshow": {
     "slide_type": "slide"
    }
   },
   "source": [
    "### 三个关键过程\n",
    "\n",
    "* 项目参数估计\n",
    "* 用户能力估计\n",
    "* 用户能力估计更新\n",
    "  - 选取项目\n",
    "  - 收敛"
   ]
  },
  {
   "cell_type": "markdown",
   "metadata": {
    "slideshow": {
     "slide_type": "slide"
    }
   },
   "source": [
    "### 项目参数估计\n",
    "\n",
    "* 项目区分度\n",
    "* 项目难度\n",
    "* 项目猜测系数"
   ]
  },
  {
   "cell_type": "markdown",
   "metadata": {
    "slideshow": {
     "slide_type": "subslide"
    }
   },
   "source": [
    "使用Logistic回归，三参数模型：\n",
    "\n",
    "$$P(\\theta)=c + (1-c)\\frac{1}{1+e^{-a(\\theta-b))}}$$\n",
    "\n",
    "其中，\n",
    "\n",
    "* $\\theta$ 是能力估计标准值\n",
    "* $a$ 是项目区分度\n",
    "* $b$ 是项目难度\n",
    "* $c$ 是项目猜测因子\n",
    "\n",
    "当$c$为0时，转变为双参数模型：\n",
    "\n",
    "$$P(\\theta)= \\frac{1}{1+e^{-a(\\theta-b))}}$$"
   ]
  },
  {
   "cell_type": "code",
   "execution_count": 16,
   "metadata": {
    "collapsed": false,
    "slideshow": {
     "slide_type": "subslide"
    }
   },
   "outputs": [
    {
     "name": "stdout",
     "output_type": "stream",
     "text": [
      "Populating the interactive namespace from numpy and matplotlib\n"
     ]
    },
    {
     "data": {
      "image/png": "[encoded data removed]",
      "text/plain": [
       "<matplotlib.figure.Figure at 0x7f1784d08350>"
      ]
     },
     "metadata": {},
     "output_type": "display_data"
    }
   ],
   "source": [
    "# This magic command could import numpy as np\n",
    "%pylab inline\n",
    "\n",
    "a = 1.5\n",
    "a2 = 2.5\n",
    "b = 0.0\n",
    "b2 = 1.0\n",
    "c = 0.2\n",
    "\n",
    "def item_model(x):\n",
    "    return c + (1-c) * (1 / (1 + np.exp(-a * (x - b))))\n",
    "\n",
    "def item_model_a(x):\n",
    "    return c + (1-c) * (1 / (1 + np.exp(-a2 * (x - b))))\n",
    "\n",
    "def item_model_b(x):\n",
    "    return c + (1-c) * (1 / (1 + np.exp(-a * (x - b2))))\n",
    "\n",
    "x = np.linspace(-3,3,100)\n",
    "y = np.apply_along_axis(item_model, 0, x)\n",
    "y2 = np.apply_along_axis(item_model_a, 0, x)\n",
    "y3 = np.apply_along_axis(item_model_b, 0, x)\n",
    "pylab.plot(x, y)\n",
    "pylab.plot(x, y2)\n",
    "pylab.plot(x, y3)\n",
    "pylab.show()"
   ]
  },
  {
   "cell_type": "markdown",
   "metadata": {
    "slideshow": {
     "slide_type": "subslide"
    }
   },
   "source": [
    "### 项目参数的估计\n",
    "  \n",
    "$c$确定，用最小二乘法拟合  \n",
    "\n",
    "原始数据结构："
   ]
  },
  {
   "cell_type": "code",
   "execution_count": 19,
   "metadata": {
    "collapsed": false,
    "slideshow": {
     "slide_type": "fragment"
    }
   },
   "outputs": [
    {
     "name": "stdout",
     "output_type": "stream",
     "text": [
      "{   u'__v': 0,\n",
      "    u'_id': ObjectId('54d7ac302b11f4174d392257'),\n",
      "    u'activity': ObjectId('54c70a8ebeef782425f442e7'),\n",
      "    u'chapter': ObjectId('538fe05c76cb8a0068b14031'),\n",
      "    u'createdBy': datetime.datetime(2015, 2, 8, 18, 15, 50, 629000),\n",
      "    u'from': u'pc',\n",
      "    u'isCorrect': True,\n",
      "    u'problem': ObjectId('54cc509f80e029f750a75fe8'),\n",
      "    u'rooms': [],\n",
      "    u'task': ObjectId('53959b4db8233b3704e37def'),\n",
      "    u'topic': ObjectId('54c708798bac81fccbd4bb6b'),\n",
      "    u'user': ObjectId('539ad7581d74e34003940983'),\n",
      "    u'userAnswer': [u'54cc50ba80e029f750a75fec']}\n"
     ]
    }
   ],
   "source": [
    "from pymongo import MongoClient\n",
    "import pprint\n",
    "\n",
    "db_client = MongoClient(\"mongodb://localhost:27017\")\n",
    "db = db_client['yangcong']\n",
    "\n",
    "problem_histories = db['problemhistories']\n",
    "\n",
    "sample_doc = problem_histories.find_one()\n",
    "\n",
    "# Output pretty json\n",
    "pp = pprint.PrettyPrinter(indent=4)\n",
    "pp.pprint(sample_doc)"
   ]
  },
  {
   "cell_type": "markdown",
   "metadata": {
    "slideshow": {
     "slide_type": "fragment"
    }
   },
   "source": [
    "以章节为单位整合数据。\n",
    "\n",
    "1. 选取全章至少完成30道题目的用户（$U$）\n",
    "2. 计算每个用户的正确率\n",
    "3. 找到该章节中的所有题目\n",
    "4. 对每一道题目做如下操作：\n",
    "   - 找到$U$中做过该题目的所有用户$u$\n",
    "   - 以$u$为样本，计算$u$中每一个用户的Z分数\n",
    "   - 找到$u$中每一个用户**首次完成**该题目的答案，正确记为1，错误记为0\n",
    "\n",
    "整合后的数据（示例）："
   ]
  },
  {
   "cell_type": "code",
   "execution_count": 21,
   "metadata": {
    "collapsed": false,
    "slideshow": {
     "slide_type": "fragment"
    }
   },
   "outputs": [
    {
     "name": "stdout",
     "output_type": "stream",
     "text": [
      "{ u'_id': ObjectId('56346e6112ab3b59d5f55455'),\n",
      "  u'problemId': ObjectId('54d325aa9ca3a7f10f5e9f09'),\n",
      "  u'response': { u'53c49d1618b3356130f6d163': { u'response': 1,\n",
      "                                                u'zscore': 0.41386491944184595},\n",
      "                 u'54041e65508af566725291a6': { u'response': 1,\n",
      "                                                u'zscore': -0.04210229218585722},\n",
      "                 u'540959f5c34d6dc35117e5e6': { u'response': 1,\n",
      "                                                u'zscore': -0.7513846213845073},\n",
      "                 u'54143e05a1e7ee383a4e530f': { u'response': 0,\n",
      "                                                u'zscore': -1.1163551402925505},\n",
      "                 u'54253c82ae4df63d015646a3': { u'response': 1,\n",
      "                                                u'zscore': -1.2580148565264002},\n",
      "                 u'543753766593967e141c495a': { u'response': 1,\n",
      "                                                u'zscore': 1.3508102024067898},\n",
      "                 u'54752606c0069d5b7d242a3a': { u'response': 1,\n",
      "                                                u'zscore': 1.3475120670604774},\n",
      "                 u'5493d22ef790d0094919e381': { u'response': 1,\n",
      "                                                u'zscore': 0.8576730054261442},\n",
      "                 u'54a950ea300077a92bcdae83': { u'response': 1,\n",
      "                                                u'zscore': 0.801191905663229},\n",
      "                 u'54b66bf2f67c531d5fef8b69': { u'response': 1,\n",
      "                                                u'zscore': 0.8421977546072644},\n",
      "                 u'54b6731d4b8657245fd71d38': { u'response': 1,\n",
      "                                                u'zscore': 0.7109344664114109},\n",
      "                 u'54b74c70dac6ecf05e49f1ff': { u'response': 0,\n",
      "                                                u'zscore': -0.9220390163796712},\n",
      "                 u'54b85e901a26ac923e6e1c7e': { u'response': 1,\n",
      "                                                u'zscore': -0.055919480417000136},\n",
      "                 u'54b901f0be42c9d95e94635d': { u'response': 1,\n",
      "                                                u'zscore': 1.127044404295434},\n",
      "                 u'54ba555c5b3472d80eee1d24': { u'response': 1,\n",
      "                                                u'zscore': 0.4072566989834734},\n",
      "                 u'54ba710068b6dcf00e6f35dc': { u'response': 1,\n",
      "                                                u'zscore': -0.48793689911072297},\n",
      "                 u'54bb5aebeb7d37d318987339': { u'response': 1,\n",
      "                                                u'zscore': -0.8755907435483263},\n",
      "                 u'54c0df3e591eff89631d459a': { u'response': 1,\n",
      "                                                u'zscore': 1.3349553108022276},\n",
      "                 u'54c76fae5cd523ac20db18ae': { u'response': 1,\n",
      "                                                u'zscore': -0.5356905608785528},\n",
      "                 u'54c8a34973fac29838aec643': { u'response': 1,\n",
      "                                                u'zscore': 0.3852729160724523},\n",
      "                 u'54c8a34a10f4d57f3805aedd': { u'response': 1,\n",
      "                                                u'zscore': 2.0105025812801087},\n",
      "                 u'54c8a77310f4d57f3805c0fb': { u'response': 0,\n",
      "                                                u'zscore': -1.84302939219968},\n",
      "                 u'54c8a77373fac29838aed9e8': { u'response': 1,\n",
      "                                                u'zscore': -1.1390668882756947},\n",
      "                 u'54ccc7af590b154f7f329b64': { u'response': 1,\n",
      "                                                u'zscore': 0.5512630392123278},\n",
      "                 u'54cde4b50bbe724e127a0ff4': { u'response': 1,\n",
      "                                                u'zscore': 2.0214416271036217},\n",
      "                 u'54d354e146b8913b10fe17b8': { u'response': 1,\n",
      "                                                u'zscore': 0.7109344664114109},\n",
      "                 u'54d55ee247b2276b36cde63b': { u'response': 1,\n",
      "                                                u'zscore': -1.5828134182338056},\n",
      "                 u'54d5bc66786f915e27ee53a3': { u'response': 0,\n",
      "                                                u'zscore': -2.087046150394952},\n",
      "                 u'54d5d68788031bc93d910a37': { u'response': 1,\n",
      "                                                u'zscore': -0.7435903100746322},\n",
      "                 u'54d5dbd0bac77dd53dbe3182': { u'response': 1,\n",
      "                                                u'zscore': 0.07777641134067509},\n",
      "                 u'54d737252f4b2c0466c61124': { u'response': 1,\n",
      "                                                u'zscore': 0.19246351747038937},\n",
      "                 u'54d7ae43dc24a6d1de85e52e': { u'response': 1,\n",
      "                                                u'zscore': -1.918238873362894},\n",
      "                 u'54d864b3a37d6ca83712f1fd': { u'response': 1,\n",
      "                                                u'zscore': -0.13882260980385525},\n",
      "                 u'54d97fd5463d395b69888038': { u'response': 1,\n",
      "                                                u'zscore': -0.8500441934910865},\n",
      "                 u'54d9d96a172407f74ae14598': { u'response': 1,\n",
      "                                                u'zscore': 1.1683820910638796},\n",
      "                 u'54ddc85297dd37893c1c75ec': { u'response': 0,\n",
      "                                                u'zscore': -0.346080433270993},\n",
      "                 u'54ded21e529564c53c768467': { u'response': 1,\n",
      "                                                u'zscore': 0.40004773121070364},\n",
      "                 u'54dff968cd47bfb63cc58aaf': { u'response': 0,\n",
      "                                                u'zscore': -1.518567548885088},\n",
      "                 u'54e2ff329341a77707c1bbb0': { u'response': 1,\n",
      "                                                u'zscore': -0.24284257403453188},\n",
      "                 u'54ebdb64d8afca1e0758e5cc': { u'response': 1,\n",
      "                                                u'zscore': 0.48102288084437644},\n",
      "                 u'54f041097148988b706a1ef9': { u'response': 1,\n",
      "                                                u'zscore': 0.40004773121070364},\n",
      "                 u'54f160e5fc1d886a244decbe': { u'response': 0,\n",
      "                                                u'zscore': -0.43727387559653375},\n",
      "                 u'54f53f27aa87626624b16f17': { u'response': 1,\n",
      "                                                u'zscore': 1.206672773893619},\n",
      "                 u'54f56cb98e5863b324fdf3c7': { u'response': 1,\n",
      "                                                u'zscore': 1.1683820910638796},\n",
      "                 u'54f91653fa5a93702484b3b8': { u'response': 1,\n",
      "                                                u'zscore': -1.7554336328475313},\n",
      "                 u'54faeb106c838ff65a51710c': { u'response': 1,\n",
      "                                                u'zscore': 0.5658539899844138},\n",
      "                 u'55001b0865bf70632183fa22': { u'response': 0,\n",
      "                                                u'zscore': -1.1277385103470563},\n",
      "                 u'55041076ab127df74b991097': { u'response': 1,\n",
      "                                                u'zscore': 0.2010802206822511},\n",
      "                 u'550426e42247cfe14bb2dfb6': { u'response': 1,\n",
      "                                                u'zscore': 0.5990152417391561},\n",
      "                 u'550437b6c1d8adb54b8a8b84': { u'response': 1,\n",
      "                                                u'zscore': 0.31428587322430185},\n",
      "                 u'5519386a0fa34a360cbb8ad0': { u'response': 1,\n",
      "                                                u'zscore': 0.5658539899844138},\n",
      "                 u'5519386a0fa34a360cbb8ad1': { u'response': 0,\n",
      "                                                u'zscore': -1.518567548885088},\n",
      "                 u'55193ecff49a2d620cc8b851': { u'response': 1,\n",
      "                                                u'zscore': 0.13670837904069316},\n",
      "                 u'5520904deec988571a3d1c1a': { u'response': 1,\n",
      "                                                u'zscore': 0.67984579289134},\n",
      "                 u'552391e1c9bb90ee3628d3fc': { u'response': 1,\n",
      "                                                u'zscore': 0.2769242717252751},\n",
      "                 u'552391e1c9bb90ee3628d3fd': { u'response': 1,\n",
      "                                                u'zscore': 0.6713670637495027},\n",
      "                 u'552391e1c9bb90ee3628d3fe': { u'response': 1,\n",
      "                                                u'zscore': 1.2673420078731885},\n",
      "                 u'552391e2c9bb90ee3628d40d': { u'response': 1,\n",
      "                                                u'zscore': 0.5060550114102887},\n",
      "                 u'552391e2c9bb90ee3628d40e': { u'response': 1,\n",
      "                                                u'zscore': 1.427125389725632},\n",
      "                 u'552391e2c9bb90ee3628d412': { u'response': 1,\n",
      "                                                u'zscore': 0.5304390609259518},\n",
      "                 u'552391e3c9bb90ee3628d41c': { u'response': 1,\n",
      "                                                u'zscore': 0.9545473507162272},\n",
      "                 u'552391e3c9bb90ee3628d42a': { u'response': 1,\n",
      "                                                u'zscore': 0.548808486745995},\n",
      "                 u'5523924ae00ca2a837958041': { u'response': 0,\n",
      "                                                u'zscore': -0.3657624711829801},\n",
      "                 u'552528b25b69921a37deb6bc': { u'response': 1,\n",
      "                                                u'zscore': -1.2010189550729373},\n",
      "                 u'5533a7200ab088b1717746b7': { u'response': 1,\n",
      "                                                u'zscore': 0.6916380483644705},\n",
      "                 u'55370bace8ef99dd0a3f4aa1': { u'response': 1,\n",
      "                                                u'zscore': 1.0218212016121175},\n",
      "                 u'55370bace8ef99dd0a3f4aa2': { u'response': 0,\n",
      "                                                u'zscore': -0.6942735766957849},\n",
      "                 u'55370bace8ef99dd0a3f4aa7': { u'response': 1,\n",
      "                                                u'zscore': -0.12895318963875343},\n",
      "                 u'55370bace8ef99dd0a3f4aa9': { u'response': 1,\n",
      "                                                u'zscore': 0.141117409290115},\n",
      "                 u'55370bade8ef99dd0a3f4aad': { u'response': 1,\n",
      "                                                u'zscore': -0.7745797405837745},\n",
      "                 u'55370bade8ef99dd0a3f4ab5': { u'response': 1,\n",
      "                                                u'zscore': 0.8915448554327736},\n",
      "                 u'55370bade8ef99dd0a3f4abd': { u'response': 1,\n",
      "                                                u'zscore': -0.7428763273592237},\n",
      "                 u'55370bade8ef99dd0a3f4abf': { u'response': 0,\n",
      "                                                u'zscore': 0.15641404484933327},\n",
      "                 u'55370bade8ef99dd0a3f4ac0': { u'response': 0,\n",
      "                                                u'zscore': -0.142590933866894},\n",
      "                 u'553e04670192d993081b3468': { u'response': 1,\n",
      "                                                u'zscore': -2.0296516762040526},\n",
      "                 u'55423013c026187d1a034fa8': { u'response': 1,\n",
      "                                                u'zscore': 0.9058973342491419},\n",
      "                 u'554396b59a9e04b11afffaad': { u'response': 1,\n",
      "                                                u'zscore': 0.33787038417056225},\n",
      "                 u'55461a1ec026187d1a040346': { u'response': 1,\n",
      "                                                u'zscore': -0.19409136272842514},\n",
      "                 u'554e1bd287711c555f80d667': { u'response': 0,\n",
      "                                                u'zscore': -0.9323239910780405},\n",
      "                 u'55549c7ed48696a211e23dcb': { u'response': 1,\n",
      "                                                u'zscore': -1.388291202705744},\n",
      "                 u'5556a56153ea39ba246bfcdc': { u'response': 1,\n",
      "                                                u'zscore': 1.1683820910638796},\n",
      "                 u'555fe8d1d73ed09b37916831': { u'response': 1,\n",
      "                                                u'zscore': 1.3355601086954},\n",
      "                 u'55703e3ba9fd9ed75ab58cea': { u'response': 1,\n",
      "                                                u'zscore': 0.5908384947311376},\n",
      "                 u'557179382646a5583031cceb': { u'response': 0,\n",
      "                                                u'zscore': -2.397932885595659},\n",
      "                 u'55738dcbb07360195bda7254': { u'response': 0,\n",
      "                                                u'zscore': -1.2347808584816766},\n",
      "                 u'55740d9fbc6b514911db3000': { u'response': 0,\n",
      "                                                u'zscore': -0.5170681376313819},\n",
      "                 u'55976dea031796b04cd11773': { u'response': 1,\n",
      "                                                u'zscore': -1.346984068551318},\n",
      "                 u'55976dea031796b04cd1177b': { u'response': 1,\n",
      "                                                u'zscore': -2.1927476403631925},\n",
      "                 u'5597c3d8031796b04cd1459f': { u'response': 0,\n",
      "                                                u'zscore': -2.321938350324375},\n",
      "                 u'559c6f9be548be4c28598fc1': { u'response': 1,\n",
      "                                                u'zscore': -0.1586966476705668},\n",
      "                 u'559e7a0cbe5805321020fc46': { u'response': 1,\n",
      "                                                u'zscore': 1.189809121685482},\n",
      "                 u'55a081408bf9ad7d66ae988b': { u'response': 1,\n",
      "                                                u'zscore': 0.17502495144638242},\n",
      "                 u'55a081408bf9ad7d66ae98a0': { u'response': 1,\n",
      "                                                u'zscore': 1.076537267007442},\n",
      "                 u'55a081408bf9ad7d66ae98a3': { u'response': 1,\n",
      "                                                u'zscore': 1.29540152858874},\n",
      "                 u'55a9bf8a388b3723789d2825': { u'response': 1,\n",
      "                                                u'zscore': -0.4992854163779016},\n",
      "                 u'55ab94aa53a8b21578ded4c7': { u'response': 1,\n",
      "                                                u'zscore': 1.3232232567558537},\n",
      "                 u'55aef42909d6d1be0a855535': { u'response': 1,\n",
      "                                                u'zscore': 0.26438806494130407},\n",
      "                 u'55b98ce8aac28abf2a7e2ee4': { u'response': 1,\n",
      "                                                u'zscore': 0.7441268847561479},\n",
      "                 u'55b98ce8aac28abf2a7e2ef1': { u'response': 1,\n",
      "                                                u'zscore': -0.5043500439186258},\n",
      "                 u'55b98ce8aac28abf2a7e2f08': { u'response': 1,\n",
      "                                                u'zscore': 0.8698321310695497},\n",
      "                 u'55bf349c3a0b2c1360da5efd': { u'response': 1,\n",
      "                                                u'zscore': 0.876299751092638},\n",
      "                 u'55c06f5246d8646c2038d6cc': { u'response': 1,\n",
      "                                                u'zscore': 1.4687593595442228},\n",
      "                 u'55c937aacebb4c2c5826346e': { u'response': 0,\n",
      "                                                u'zscore': -0.1458997062149279},\n",
      "                 u'55c9765be70d1f6043623124': { u'response': 1,\n",
      "                                                u'zscore': -1.3837989149064562},\n",
      "                 u'55cc133d32ade2a0250c4613': { u'response': 0,\n",
      "                                                u'zscore': -0.1671026492675957},\n",
      "                 u'55cde000f968d1587a365253': { u'response': 1,\n",
      "                                                u'zscore': -0.7260531096274125},\n",
      "                 u'55d15701ff9a0aaa51c081ed': { u'response': 1,\n",
      "                                                u'zscore': 0.5158849804909669},\n",
      "                 u'55d42dbc816c3f6c50320370': { u'response': 1,\n",
      "                                                u'zscore': 0.40862391700934414},\n",
      "                 u'55d67f98816c3f6c5034b944': { u'response': 1,\n",
      "                                                u'zscore': -0.4600722361779188},\n",
      "                 u'55da9fefff9a0aaa51cc615d': { u'response': 1,\n",
      "                                                u'zscore': -0.10965299020477656},\n",
      "                 u'55dbdb25105462a35cb35dc0': { u'response': 1,\n",
      "                                                u'zscore': -0.6352303723519759},\n",
      "                 u'55dbdb25105462a35cb35ddc': { u'response': 0,\n",
      "                                                u'zscore': -1.2368070792413908},\n",
      "                 u'55dbdb25105462a35cb35de3': { u'response': 1,\n",
      "                                                u'zscore': -0.7108542025731558},\n",
      "                 u'55dbdb25105462a35cb35de9': { u'response': 1,\n",
      "                                                u'zscore': -0.21580408709164903},\n",
      "                 u'55dbdb25105462a35cb35df5': { u'response': 1,\n",
      "                                                u'zscore': 0.9306277592865766},\n",
      "                 u'55dd37a0c36a804b0630bb76': { u'response': 1,\n",
      "                                                u'zscore': 0.897466507531835},\n",
      "                 u'55e2ad003018a1b36cdbec4e': { u'response': 1,\n",
      "                                                u'zscore': -0.4600722361779188},\n",
      "                 u'55f10abeac3df58e3add17e8': { u'response': 1,\n",
      "                                                u'zscore': 0.01389368117193071},\n",
      "                 u'55fe1ca05dc3d48675e57fd3': { u'response': 0,\n",
      "                                                u'zscore': -0.6679396414787838},\n",
      "                 u'5603ddcd5189a8c523f81632': { u'response': 1,\n",
      "                                                u'zscore': 1.4777884132398214}}}\n"
     ]
    }
   ],
   "source": [
    "from pymongo import MongoClient\n",
    "import pprint\n",
    "\n",
    "db_client = MongoClient(\"mongodb://localhost:27017\")\n",
    "db = db_client['yangcong']\n",
    "\n",
    "origin_data = db['problemorigin']\n",
    "\n",
    "sample_doc = origin_data.find_one()\n",
    "\n",
    "# Output pretty json\n",
    "pp = pprint.PrettyPrinter(indent=2)\n",
    "pp.pprint(sample_doc)"
   ]
  },
  {
   "cell_type": "markdown",
   "metadata": {
    "slideshow": {
     "slide_type": "fragment"
    }
   },
   "source": [
    "根据这些基于题目的数据，使用最小二乘法，拟合三参数模型\n",
    "\n",
    "继上例，设$c$为0.15："
   ]
  },
  {
   "cell_type": "code",
   "execution_count": 60,
   "metadata": {
    "collapsed": false,
    "slideshow": {
     "slide_type": "fragment"
    }
   },
   "outputs": [
    {
     "name": "stdout",
     "output_type": "stream",
     "text": [
      "{   'a': 0.26224880042137294,\n",
      "    'b': 1.0420523335164249,\n",
      "    'c': 0.15,\n",
      "    'problemId': ObjectId('54d325aa9ca3a7f10f5e9f09')}\n"
     ]
    }
   ],
   "source": [
    "import numpy as np\n",
    "from scipy import optimize\n",
    "\n",
    "problem_id = sample_doc['problemId']\n",
    "responses = sample_doc['response']\n",
    "\n",
    "# guessing index c\n",
    "c = 0.15\n",
    "\n",
    "# transform data structure\n",
    "theta = []\n",
    "res = []\n",
    "doing_right = [[0.0, 0], [0.0, 0], [0.0, 0], [0.0, 0], [0.0, 0], [0.0, 0], [0.0, 0]]\n",
    "for each in responses:\n",
    "    theta.append(responses[each]['zscore'])\n",
    "    res.append(responses[each]['response'])\n",
    "    index = int(responses[each]['zscore']) + 3\n",
    "    if responses[each]['response'] == 1:\n",
    "        doing_right[index][0] += 1\n",
    "    doing_right[index][1] += 1\n",
    "    \n",
    "# discrimination and difficulty a/b\n",
    "def item_characters(x, a, b):\n",
    "    return c + (1 - c) * (1 / np.exp(-a * (x - b)))\n",
    "\n",
    "initialEstimation = np.array([0.0, 0.0])\n",
    "result = optimize.curve_fit(item_characters, np.array(theta), np.array(res), initialEstimation)\n",
    "result = list(result[0])\n",
    "\n",
    "# output\n",
    "output = {\n",
    "    \"problemId\": problem_id,\n",
    "    \"a\": result[0],\n",
    "    \"b\": result[1],\n",
    "    \"c\": c\n",
    "}\n",
    "\n",
    "pp = pprint.PrettyPrinter(indent=4)\n",
    "pp.pprint(output)"
   ]
  },
  {
   "cell_type": "markdown",
   "metadata": {
    "slideshow": {
     "slide_type": "fragment"
    }
   },
   "source": [
    "一般地，\n",
    "\n",
    "$a$ 在[-2.8, 2.8]之间，$b$ 在[-3.0, 3.0]之间\n",
    "\n",
    "根据这两个条件过滤部分题目。"
   ]
  },
  {
   "cell_type": "code",
   "execution_count": null,
   "metadata": {
    "collapsed": true
   },
   "outputs": [],
   "source": []
  }
 ],
 "metadata": {
  "celltoolbar": "Slideshow",
  "kernelspec": {
   "display_name": "Python 2",
   "language": "python",
   "name": "python2"
  },
  "language_info": {
   "codemirror_mode": {
    "name": "ipython",
    "version": 2
   },
   "file_extension": ".py",
   "mimetype": "text/x-python",
   "name": "python",
   "nbconvert_exporter": "python",
   "pygments_lexer": "ipython2",
   "version": "2.7.9"
  }
 },
 "nbformat": 4,
 "nbformat_minor": 0
}
